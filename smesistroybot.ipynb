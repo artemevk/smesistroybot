{
 "cells": [
  {
   "cell_type": "code",
   "execution_count": 5,
   "metadata": {},
   "outputs": [],
   "source": [
    "import requests\n",
    "from bs4 import BeautifulSoup\n",
    "from telegram.ext import Updater, CommandHandler, MessageHandler, Filters\n",
    "from bot_config import token"
   ]
  },
  {
   "cell_type": "code",
   "execution_count": 6,
   "metadata": {},
   "outputs": [],
   "source": [
    "def start(update, context):\n",
    "    \"\"\"Send a message when the command /start is issued.\"\"\"\n",
    "    update.message.reply_text('Бот Магазина Смесистрой\\nДоброго дня\\nЧтобы узнать цены просто напишите запрос\\nНАПРИМЕР: Гипсовая штукатурка\\nНаш магазин:www.smesistroy.ru')\n",
    "\n",
    "\n",
    "# def help_command(update, context):\n",
    "#     \"\"\"Send a message when the command /help is issued.\"\"\"\n",
    "#     update.message.reply_text('Help!')\n",
    "\n",
    "\n",
    "def bot_answer(update, context):\n",
    "    \"\"\"Echo the user message.\"\"\"\n",
    "    question = update.message.text\n",
    "    answear = find_answear(question)\n",
    "    update.message.reply_text(answear)\n",
    "\n",
    "\n",
    "def find_answear(question):\n",
    "    \"\"\"Поиск по сайту\"\"\"\n",
    "    search_phrase = question.replace(' ', '%20') # Подготовка данных для адресной строки\n",
    "    url = 'https://smesistroy.ru/search/?sort=rating&order=DESC&search='+search_phrase+'&limit=120' # Создание ссылки\n",
    "    html = requests.get(url) # Получение кода страницы\n",
    "    soup = BeautifulSoup(html.text, 'html.parser') # Парсинг страницы\n",
    "    \n",
    "    data = soup.find('div', attrs={'class': 'row products_category'}) # Получение блока данных по запрашиваемому товару\n",
    "\n",
    "    reply = '' # Ответ\n",
    "    \n",
    "    try:\n",
    "        items = [] # Список товаров\n",
    "        prices = [] # Список цен\n",
    "        \n",
    "        \n",
    "        for item in data.find_all('span', attrs={'itemprop': 'name'}, limit=3): # Извлечение списка товаров\n",
    "            items.append(item.text.strip())\n",
    "\n",
    "        for price in data.find_all('meta', attrs={'itemprop': 'price'}, limit=3): # Извлечение списка цен\n",
    "            prices.append(int(price.attrs['content']))\n",
    "\n",
    "        # Формирование ответа\n",
    "        for i in range(len(items)):\n",
    "            reply += '{}, {} руб.\\n'.format(items[i], prices[i])\n",
    "\n",
    "        reply += 'и др. по ссылке: {}'.format(url)\n",
    "\n",
    "    # Заглушка\n",
    "    except (AttributeError, TypeError):\n",
    "        reply += 'Товары не найдены. Попробуйте запросить другой товар.'\n",
    "        \n",
    "    return reply\n",
    "\n",
    "\n",
    "def main():\n",
    "    \"\"\"Start the bot.\"\"\"\n",
    "    updater = Updater(token, use_context=True)\n",
    "\n",
    "    dp = updater.dispatcher\n",
    "    dp.add_handler(CommandHandler(\"start\", start))\n",
    "#     dp.add_handler(CommandHandler(\"help\", help_command))\n",
    "    dp.add_handler(MessageHandler(Filters.text & ~Filters.command, bot_answer))\n",
    "\n",
    "    # Start the Bot\n",
    "    updater.start_polling()\n",
    "    updater.idle()"
   ]
  },
  {
   "cell_type": "code",
   "execution_count": null,
   "metadata": {},
   "outputs": [],
   "source": [
    "main()"
   ]
  },
  {
   "cell_type": "code",
   "execution_count": null,
   "metadata": {},
   "outputs": [],
   "source": []
  }
 ],
 "metadata": {
  "kernelspec": {
   "display_name": "Python 3",
   "language": "python",
   "name": "python3"
  },
  "language_info": {
   "codemirror_mode": {
    "name": "ipython",
    "version": 3
   },
   "file_extension": ".py",
   "mimetype": "text/x-python",
   "name": "python",
   "nbconvert_exporter": "python",
   "pygments_lexer": "ipython3",
   "version": "3.8.5"
  }
 },
 "nbformat": 4,
 "nbformat_minor": 4
}
